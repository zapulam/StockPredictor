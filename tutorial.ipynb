{
 "cells": [
  {
   "cell_type": "markdown",
   "metadata": {},
   "source": [
    "# StockPredictor Tutorial"
   ]
  },
  {
   "cell_type": "code",
   "execution_count": 3,
   "metadata": {},
   "outputs": [],
   "source": [
    "import os\n",
    "import torch\n",
    "import pandas as pd\n",
    "import datetime as dt\n",
    "import seaborn as sns\n",
    "import matplotlib.pyplot as plt\n",
    "import matplotlib.dates as mdates\n",
    "\n",
    "from datetime import date\n",
    "from dateutil.relativedelta import relativedelta\n",
    "\n",
    "from rnn import LSTM"
   ]
  },
  {
   "cell_type": "markdown",
   "metadata": {},
   "source": [
    "Select stocks to create predictions for"
   ]
  },
  {
   "cell_type": "code",
   "execution_count": 4,
   "metadata": {},
   "outputs": [],
   "source": [
    "symbols = ['AAPL']"
   ]
  },
  {
   "cell_type": "markdown",
   "metadata": {},
   "source": [
    "Create predictions for each stock"
   ]
  },
  {
   "cell_type": "code",
   "execution_count": null,
   "metadata": {},
   "outputs": [],
   "source": [
    "device = 'cude:0'   # device to use; cuda or cpu\n",
    "steps = 25   # future time steps to predict for\n",
    "\n",
    "# Load model\n",
    "kwargs, state = torch.load('model/rnn/weights/best.pth')\n",
    "model = LSTM(**kwargs)\n",
    "model.load_state_dict(state)\n",
    "model.to(device)\n",
    "model.eval()\n",
    "\n",
    "# List to store predictions\n",
    "outputs = []\n",
    "\n",
    "# Create predictions for each stock\n",
    "for _, stock in enumerate(symbols):\n",
    "    stock = stock.replace('.', '-')   # format ticker symbol\n",
    "\n",
    "    predictions = torch.rand(1,0,5)   # tensor to store future predictions\n",
    "\n",
    "    # Send empty tensor to device\n",
    "    if 'cuda' in device:\n",
    "        predictions = predictions.cuda()\n",
    "\n",
    "    # Format datetimes to download most recent daat from Yahoo Finance\n",
    "    now = dt.datetime.now()\n",
    "    a = dt.datetime(1970,1,1,23,59,59)\n",
    "    b = dt.datetime(now.year, now.month, now.day, 23, 59, 59)\n",
    "    c = b - relativedelta(years=5)\n",
    "\n",
    "    period1 = str(int((c-a).total_seconds()))   # total seconds from today since Jan. 1, 1970 subracting 5 years\n",
    "    period2 = str(int((b-a).total_seconds()))   # total seconds from today since Jan. 1, 1970\n",
    "\n",
    "    # Download data\n",
    "    data = pd.read_csv('https://query1.finance.yahoo.com/v7/finance/download/{x}?period1={period1}&period2={period2}&interval=1d&events=history&includeAdjustedClose=true'.format(x=x, period1=period1,period2=period2))\n",
    "    x = data[['Open', 'High', 'Low', 'Volume', 'Close']]   # input data\n",
    "\n",
    "    mins, maxs = x.min(), x.max()   # values for normalization\n",
    "\n",
    "    # Normalize inputs\n",
    "    x = (x-mins)/(maxs-mins)\n",
    "    x = torch.tensor(x.values)\n",
    "    x = torch.unsqueeze(x, dim=0)\n",
    "    \n",
    "    mins = torch.tensor(mins.values)\n",
    "    maxs = torch.tensor(maxs.values)\n",
    "\n",
    "    # Send inputs to device\n",
    "    if 'cuda' in device:\n",
    "        x, mins, maxs = x.cuda(), mins.cuda(), maxs.cuda()\n",
    "\n",
    "    # Make predicitons for n time steps\n",
    "    for _ in range(steps):\n",
    "        pred = model(x.float())   # model prediction for one time step\n",
    "        pred = torch.unsqueeze(pred, dim=0)\n",
    "        \n",
    "        predictions = torch.cat((predictions, pred), dim=1)   # append predicition to full predictions tensor\n",
    "\n",
    "        x = torch.cat((x, pred), dim=1)   # append predicition to input data for next time step\n",
    "\n",
    "    # Unnormalize predictions and send to DataFrame\n",
    "    predictions = predictions*(maxs-mins)+mins\n",
    "    predictions = pd.DataFrame(predictions.cpu().squeeze().detach().numpy(), columns=['Open', 'High', 'Low', 'Volume', 'Close'])\n",
    "\n",
    "    # Append DataFrame to list\n",
    "    outputs.append(pd.concat([data, predictions]))"
   ]
  },
  {
   "cell_type": "markdown",
   "metadata": {},
   "source": [
    "Plot predictions"
   ]
  },
  {
   "cell_type": "code",
   "execution_count": null,
   "metadata": {},
   "outputs": [],
   "source": [
    "%matplotlib inline\n",
    "sns.set()\n",
    "plt.style.use('fivethirtyeight')\n",
    "\n",
    "# Plot each stock\n",
    "for x in outputs:\n",
    "    plt.figure(figsize=(16, 6))\n",
    "    plt.title(\"{x} Stock Prices\".format(x=x))\n",
    "    plt.gcf().autofmt_xdate()\n",
    "    plt.ylabel(\"Close\")\n",
    "    plt.xlabel(\"Time Step\")\n",
    "    plt.xlim([1000, 1300])\n",
    "    plt.plot(x.loc[0:len(data.index)-1, \"Close\"], color='cornflowerblue')\n",
    "    plt.plot(x.loc[len(data.index)-1:,\"Close\"], color='lightcoral')\n",
    "    plt.show()"
   ]
  }
 ],
 "metadata": {
  "kernelspec": {
   "display_name": "ds",
   "language": "python",
   "name": "python3"
  },
  "language_info": {
   "codemirror_mode": {
    "name": "ipython",
    "version": 3
   },
   "file_extension": ".py",
   "mimetype": "text/x-python",
   "name": "python",
   "nbconvert_exporter": "python",
   "pygments_lexer": "ipython3",
   "version": "3.9.7"
  },
  "orig_nbformat": 4
 },
 "nbformat": 4,
 "nbformat_minor": 2
}
